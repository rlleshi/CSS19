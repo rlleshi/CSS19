{
 "cells": [
  {
   "cell_type": "code",
   "execution_count": 1,
   "metadata": {},
   "outputs": [],
   "source": [
    "import pandas as pd \n",
    "import tensorflow\n",
    "from bs4 import BeautifulSoup\n",
    "import re\n",
    "import timeit\n",
    "import requests\n",
    "import wikipedia"
   ]
  },
  {
   "cell_type": "code",
   "execution_count": 2,
   "metadata": {},
   "outputs": [],
   "source": [
    "def crawl_year(year, yearContent, df):\n",
    "    \"\"\" Crawl the different years of the wikipedia's archieved deletion discussions page and store the content\n",
    "        in a Data Frame. \n",
    "\n",
    "        Args: \n",
    "            year: the year in which the archived articles were flagged for deletion\n",
    "            yearContent: the html content containing the year (a h2 tag)\n",
    "            df: the data frame where the data are stored in the format year | month | title | content | about_women\n",
    "\n",
    "        Returns:\n",
    "            a data frame\n",
    "    \"\"\"\n",
    "    counter = 0\n",
    "    for monthContent in yearContent.find_next_siblings(limit=24):\n",
    "        try:\n",
    "            if monthContent.name == \"h2\":\n",
    "                # Crawl only this year. If the year doesn't yet have 12 months, don't go for more.\n",
    "                break\n",
    "            if monthContent.name == \"h3\":\n",
    "                month = monthContent.get_text().split(str(year)+\" \")[1].split(\"[\")[0]\n",
    "                print(\"Month\",month)\n",
    "            if monthContent.name == \"ul\":\n",
    "                for dayRelative in monthContent.find_all(\"a\"):\n",
    "                    print(dayRelative['href'])\n",
    "                    dayPageLink = \"https://en.wikipedia.org/\"+dayRelative['href']\n",
    "                    try :\n",
    "                        dayPage = requests.get(dayPageLink)\n",
    "                    except requests.exceptions.RequestException as e:\n",
    "                        continue\n",
    "                    soupPage = BeautifulSoup(dayPage.content, \"html.parser\")\n",
    "\n",
    "                    if dayPage.status_code == 200:\n",
    "                        try:\n",
    "                            # Find the last article to get the length of the articles\n",
    "                            articlesLength = int(soupPage.find_all(\"ul\")[2].find_all(\"li\")[-1].get_text().split(\" \")[0])\n",
    "                        except ValueError:\n",
    "                            continue\n",
    "\n",
    "                        # Every article is located in an <h3> tag\n",
    "                        for article in soupPage.find_all(\"h3\", limit = articlesLength):\n",
    "\n",
    "                            # Don't read deleted articles\n",
    "                            if article.find(\"a\")['title'].find(\"(page does\") == -1:\n",
    "                                articleTitle = article.get_text().split(\"[\")[0]\n",
    "    #                             pageLink = \"https://en.wikipedia.org\"+article.find(\"a\")['href']\n",
    "                                df = crawl_article(year, month, articleTitle, df)\n",
    "        except Exception:\n",
    "            continue\n",
    "    return df\n"
   ]
  },
  {
   "cell_type": "code",
   "execution_count": 3,
   "metadata": {},
   "outputs": [],
   "source": [
    "def crawl_article(year, month, articleTitle, df):\n",
    "    \"\"\" Crawl the content of a wikipedia article and store an entry in the dataframe.\n",
    "\n",
    "        Args:\n",
    "            year: the year in which the current article was flagged for deletion\n",
    "            month: the month in which the current article was flagged for deletion\n",
    "            articleTitle: the title of the article flagged for deletion\n",
    "            df: the data frame where the data are stored in the format year | month | title | content | about_women\n",
    "\n",
    "        Returns:\n",
    "            A data frame\n",
    "    \"\"\"\n",
    "    try: \n",
    "        p = wikipedia.page(articleTitle)\n",
    "    except wikipedia.exceptions.DisambiguationError as e1:\n",
    "        return df\n",
    "    except wikipedia.exceptions.PageError as e2:\n",
    "        return df\n",
    "    dic = {\"Year\":year, \"Month\":month, \"Title\": p.title, \"Content\": p.content, \"About_women\":0}\n",
    "    if df.empty:\n",
    "        df = pd.DataFrame(data=dic, index=[0])\n",
    "    else:\n",
    "        df_temp = pd.DataFrame(data=dic, index=[0])\n",
    "        df = pd.concat([df, df_temp])\n",
    "    return df"
   ]
  },
  {
   "cell_type": "code",
   "execution_count": null,
   "metadata": {},
   "outputs": [
    {
     "name": "stdout",
     "output_type": "stream",
     "text": [
      "Month June\n",
      "/wiki/Wikipedia:Articles_for_deletion/Log/2019_June_5\n"
     ]
    }
   ],
   "source": [
    "startTime = timeit.default_timer()\n",
    "\n",
    "seedURL = \"https://en.wikipedia.org/wiki/Wikipedia:Archived_deletion_discussions#Deletion_discussions/\"\n",
    "archivePage = requests.get(seedURL)\n",
    "soup = BeautifulSoup(archivePage.content, \"html.parser\")\n",
    "\n",
    "# Get the year\n",
    "years = []\n",
    "yearContents = []\n",
    "for yearContent in soup.find_all(\"h2\", limit=7):\n",
    "    year = yearContent.get_text().split(\"[\")[0]\n",
    "    if year == \"Contents\":\n",
    "        continue\n",
    "    years.append(year)\n",
    "    yearContents.append(yearContent)\n",
    "    \n",
    "df = pd.DataFrame()\n",
    "df = crawl_year(years[0], yearContents[0], df)\n",
    "\n",
    "elapsedTime = timeit.default_timer() - startTime\n",
    "print(\"Crawl time \", elapsedTime)"
   ]
  },
  {
   "cell_type": "code",
   "execution_count": null,
   "metadata": {},
   "outputs": [],
   "source": [
    "df.to_csv(r'C:\\Users\\neiral\\WS_semester2\\CSS\\nominatedForDeletion\\articles.txt', header=None, index=None, sep=' ', mode='a')"
   ]
  },
  {
   "cell_type": "code",
   "execution_count": null,
   "metadata": {},
   "outputs": [],
   "source": [
    "print(type(df.loc[df['Title'] == \"Amir Yusuf Pohan\"].Content))"
   ]
  }
 ],
 "metadata": {
  "kernelspec": {
   "display_name": "Css - binder",
   "language": "python",
   "name": "cssresearch"
  },
  "language_info": {
   "codemirror_mode": {
    "name": "ipython",
    "version": 3
   },
   "file_extension": ".py",
   "mimetype": "text/x-python",
   "name": "python",
   "nbconvert_exporter": "python",
   "pygments_lexer": "ipython3",
   "version": "3.6.8"
  }
 },
 "nbformat": 4,
 "nbformat_minor": 2
}
